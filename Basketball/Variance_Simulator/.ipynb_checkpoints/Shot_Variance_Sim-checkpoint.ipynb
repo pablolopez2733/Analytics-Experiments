{
 "cells": [
  {
   "cell_type": "markdown",
   "metadata": {},
   "source": [
    "## NBA shot variance simulation"
   ]
  },
  {
   "cell_type": "markdown",
   "metadata": {},
   "source": [
    "If you had 2 teams:   \n",
    "\n",
    "**Team 1:**  \n",
    "* 80% de tiros de 2 puntos con una eficiencia del 50%.\n",
    "* 20% de tiros de 3pt con una eficiencia de 33%. \n",
    "   \n",
    "   \n",
    "**Team 2:**\n",
    "* 50% de tiros de 2 ptos con 50% de eficiencia.\n",
    "* 50% de tiros de 3pt con eficiencia de 33% FG%.\n",
    "\n",
    "Si hipotéticamente jugaran 1,000,000... ¿Qué equipo gana más juegos?\n",
    "<br>\n",
    "#### Apuéstenle...\n",
    "***\n"
   ]
  },
  {
   "cell_type": "markdown",
   "metadata": {},
   "source": [
    "Set data for teams. We are going to think that each team has 90 possesions (because league AVG is around 88.9) and if it ends in a tie, we have 10 more POS in OT.\n"
   ]
  },
  {
   "cell_type": "code",
   "execution_count": 1,
   "metadata": {},
   "outputs": [],
   "source": [
    "#Imports:\n",
    "import random\n",
    "import pandas as pd"
   ]
  },
  {
   "cell_type": "code",
   "execution_count": 2,
   "metadata": {},
   "outputs": [],
   "source": [
    "shots = 90\n",
    "ot_shots = 10\n",
    "\n",
    "##########\n",
    "# Team 1 #\n",
    "##########\n",
    "team1 = {\n",
    "    '2pt rate': .80,\n",
    "    '3pt rate': .20,\n",
    "    '2pt%': .50,\n",
    "    '3pt%': .33333\n",
    "}\n",
    "\n",
    "##########\n",
    "# Team 2 #\n",
    "##########\n",
    "team2 = {\n",
    "    '2pt rate': .50,\n",
    "    '3pt rate': .50,\n",
    "    '2pt%': .50,\n",
    "    '3pt%': .33333\n",
    "}"
   ]
  },
  {
   "cell_type": "code",
   "execution_count": 3,
   "metadata": {},
   "outputs": [],
   "source": [
    "def points(team):\n",
    "    roll_shot_type = random.random()\n",
    "    roll_make = random.random()\n",
    "\n",
    "    #si el num entre 0 y 1 es menor al 2pt rate, es un tiro de 2\n",
    "    if roll_shot_type <= team['2pt rate']:\n",
    "        #El jugador tira, si el valor es menor al pocentaje de 2pt => anota\n",
    "        if roll_make <= team['2pt%']:\n",
    "            return 2\n",
    "    #Esto es un tiro de 3: si roll_make es menor al % de triples del equipo, la mete.\n",
    "    else:\n",
    "        if roll_make <= team['3pt%']:\n",
    "            return 3\n",
    "\n",
    "    return 0"
   ]
  },
  {
   "cell_type": "markdown",
   "metadata": {},
   "source": [
    "Esta es la función que va a simular el juego:"
   ]
  },
  {
   "cell_type": "code",
   "execution_count": 4,
   "metadata": {},
   "outputs": [],
   "source": [
    "def play_game(shots_to_take):\n",
    "    t1_points_in_game = 0\n",
    "    t2_points_in_game = 0\n",
    "    for shot in range(shots_to_take):\n",
    "        t1_points_in_game += points(team1)\n",
    "        t2_points_in_game += points(team2)\n",
    "    return t1_points_in_game, t2_points_in_game"
   ]
  },
  {
   "cell_type": "markdown",
   "metadata": {},
   "source": [
    "También definiremos una función para simular todas las shooting possessions. Simularemos un millón de veces para tener una muestra adecuada:"
   ]
  },
  {
   "cell_type": "code",
   "execution_count": 5,
   "metadata": {},
   "outputs": [],
   "source": [
    "#Definimos una lista de diccionarios con los resultados:\n",
    "results = []\n",
    "\n",
    "for game in range(1000000):\n",
    "    t1_points, t2_points = play_game(shots)\n",
    "\n",
    "    while t1_points == t2_points:\n",
    "        t1_new, t2_new = play_game(10)\n",
    "        t1_points += t1_new\n",
    "        t2_points += t2_new\n",
    "\n",
    "    #Definimos un diccionario con el resultado de cada juego:\n",
    "    result = {\n",
    "        'team1': t1_points,\n",
    "        'team2': t2_points,\n",
    "        'game': game,\n",
    "        'team1_win': t1_points > t2_points,\n",
    "        'team2_win': t2_points > t1_points,\n",
    "    }\n",
    "    results.append(result)"
   ]
  },
  {
   "cell_type": "markdown",
   "metadata": {},
   "source": [
    "Presentamos los resultados como %s guardandolos en un dataframe:"
   ]
  },
  {
   "cell_type": "code",
   "execution_count": 6,
   "metadata": {},
   "outputs": [
    {
     "name": "stdout",
     "output_type": "stream",
     "text": [
      "Team 1 wins 50.12% of the time\n",
      "Team 2 wins 49.88% of the time\n"
     ]
    }
   ],
   "source": [
    "frame = pd.DataFrame(results)\n",
    "\n",
    "team1_wins = frame['team1_win'].sum() / frame.shape[0]\n",
    "team2_wins = frame['team2_win'].sum() / frame.shape[0]\n",
    "\n",
    "print('Team 1 wins {0:.2f}% of the time'.format(team1_wins * 100))\n",
    "print('Team 2 wins {0:.2f}% of the time'.format(team2_wins * 100))"
   ]
  },
  {
   "cell_type": "code",
   "execution_count": null,
   "metadata": {},
   "outputs": [],
   "source": []
  }
 ],
 "metadata": {
  "kernelspec": {
   "display_name": "Python [conda env:tareaMin]",
   "language": "python",
   "name": "conda-env-tareaMin-py"
  },
  "language_info": {
   "codemirror_mode": {
    "name": "ipython",
    "version": 3
   },
   "file_extension": ".py",
   "mimetype": "text/x-python",
   "name": "python",
   "nbconvert_exporter": "python",
   "pygments_lexer": "ipython3",
   "version": "3.6.9"
  }
 },
 "nbformat": 4,
 "nbformat_minor": 4
}
